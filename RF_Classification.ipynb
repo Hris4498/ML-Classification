{
 "cells": [
  {
   "cell_type": "code",
   "execution_count": 73,
   "metadata": {},
   "outputs": [],
   "source": [
    "#Import Packages and Fumctions required\n",
    "import pandas as pd\n",
    "import os\n",
    "from sklearn.model_selection import train_test_split\n",
    "from sklearn.ensemble import RandomForestClassifier\n",
    "from sklearn.metrics import accuracy_score"
   ]
  },
  {
   "cell_type": "code",
   "execution_count": 44,
   "metadata": {},
   "outputs": [],
   "source": [
    "# Import Dataset\n",
    "# Define the folder path containing CSV files\n",
    "folder_path = 'har70plus'\n",
    "\n",
    "# List to hold individual DataFrames\n",
    "dataframes = []\n",
    "\n",
    "# Loop through all files in the folder\n",
    "for filename in os.listdir(folder_path):\n",
    "    if filename.endswith('.csv'):\n",
    "        # Construct full file path\n",
    "        file_path = os.path.join(folder_path, filename)\n",
    "        # Read the CSV file into a DataFrame\n",
    "        df_raw = pd.read_csv(file_path)\n",
    "        # Add a new column with the file name\n",
    "        df_raw['source_file'] = filename.replace('.csv','')\n",
    "        # Append the DataFrame to the list\n",
    "        dataframes.append(df_raw)\n",
    "\n",
    "# Concatenate all DataFrames in the list into a single DataFrame\n",
    "df = pd.concat(dataframes, ignore_index=True)\n",
    "\n",
    "# Convert date time to unix timestamp\n",
    "df['timestamp'] = pd.to_datetime(df['timestamp'])\n",
    "df['unix_timestamp_ms'] = (df['timestamp'] - pd.Timestamp(\"1970-01-01\")) // pd.Timedelta('1ms')\n"
   ]
  },
  {
   "cell_type": "code",
   "execution_count": null,
   "metadata": {},
   "outputs": [],
   "source": [
    "#Check if any null value is present\n",
    "df.isna().sum()"
   ]
  },
  {
   "cell_type": "code",
   "execution_count": 45,
   "metadata": {},
   "outputs": [],
   "source": [
    "#Sepetrate out the target and features\n",
    "y = df.iloc[:,7:8]\n",
    "x = df[df.columns.difference(['label','timestamp']) ]"
   ]
  },
  {
   "cell_type": "code",
   "execution_count": 46,
   "metadata": {},
   "outputs": [],
   "source": [
    "# Splitting data into training and testing sets (80% training, 20% testing)\n",
    "x_train, x_test, y_train, y_test = train_test_split(x, y, test_size=0.2, random_state=42)\n",
    "\n",
    "# Splitting training set into training and validation sets (75% training, 25% validation)\n",
    "x_train, x_val, y_train, y_val = train_test_split(x_train, y_train, test_size=0.25, random_state=42)"
   ]
  },
  {
   "cell_type": "code",
   "execution_count": 50,
   "metadata": {},
   "outputs": [
    {
     "name": "stdout",
     "output_type": "stream",
     "text": [
      "\n",
      "------Shape------\n",
      "Shape     : (2259597, 10)\n",
      "Size      : 22595970\n",
      "Dimension : 2\n",
      "\n",
      "------Types------\n",
      "back_x               float64\n",
      "back_y               float64\n",
      "back_z               float64\n",
      "source_file           object\n",
      "thigh_x              float64\n",
      "thigh_y              float64\n",
      "thigh_z              float64\n",
      "unix_timestamp_ms      int64\n",
      "dtype: object\n",
      "\n",
      "------Head------\n",
      "           back_x    back_y    back_z source_file   thigh_x   thigh_y  \\\n",
      "1390278 -0.993896  0.056152 -0.073730         512 -0.980225 -0.054443   \n",
      "1630365 -0.919922 -0.186279 -0.579834         514 -0.965576  0.178467   \n",
      "2160575 -0.676758 -0.063965  0.725098         518  0.002930  0.001221   \n",
      "2113868 -0.995361  0.053223 -0.074463         517 -0.921631 -0.031250   \n",
      "1703861 -0.978760  0.044434  0.240234         515 -0.216064  0.231934   \n",
      "\n",
      "          thigh_z  unix_timestamp_ms  \n",
      "1390278 -0.171875      1620403139500  \n",
      "1630365 -0.153076      1621607461200  \n",
      "2160575 -0.999268      1623407943358  \n",
      "2113868  0.202637      1623149577806  \n",
      "1703861 -0.945557      1622108211939  \n",
      "\n",
      "------Tail------\n",
      "           back_x    back_y    back_z source_file   thigh_x   thigh_y  \\\n",
      "2087263 -1.043945  0.144043  0.028320         517 -1.031250 -0.255859   \n",
      "29885   -0.907471 -0.015137 -0.358887         501 -1.227295 -0.104004   \n",
      "1177721 -1.219482  0.066406 -0.569580         510 -1.215576  0.415039   \n",
      "22740   -0.140625 -0.015625  0.906250         501 -0.125732 -0.125000   \n",
      "445952  -0.986328  0.011475 -0.098877         504 -0.983398 -0.047607   \n",
      "\n",
      "          thigh_z  unix_timestamp_ms  \n",
      "2087263  0.014648      1623149042626  \n",
      "29885    0.330322      1616597543659  \n",
      "1177721 -0.515381      1620377323069  \n",
      "22740   -1.078125      1616597385000  \n",
      "445952  -0.079346      1617792420900  \n",
      "\n",
      "------Missing Values------\n",
      "back_x               0\n",
      "back_y               0\n",
      "back_z               0\n",
      "source_file          0\n",
      "thigh_x              0\n",
      "thigh_y              0\n",
      "thigh_z              0\n",
      "unix_timestamp_ms    0\n",
      "dtype: int64\n",
      "\n",
      "------Duplicated Values------\n",
      "0\n",
      "\n",
      "------Unique Values------\n",
      "back_x                  8814\n",
      "back_y                  6407\n",
      "back_z                  8766\n",
      "source_file               18\n",
      "thigh_x                17518\n",
      "thigh_y                14893\n",
      "thigh_z                16253\n",
      "unix_timestamp_ms    1355757\n",
      "dtype: int64\n",
      "\n",
      "------Describe------\n",
      "                       count          mean           std           min  \\\n",
      "back_x             1355757.0 -8.700777e-01  2.688777e-01 -4.333252e+00   \n",
      "back_y             1355757.0 -3.319330e-02  1.512778e-01 -2.031006e+00   \n",
      "back_z             1355757.0  2.326224e-02  4.327346e-01 -2.204834e+00   \n",
      "thigh_x            1355757.0 -6.797952e-01  5.520791e-01 -7.907227e+00   \n",
      "thigh_y            1355757.0  2.845406e-03  2.740551e-01 -4.720459e+00   \n",
      "thigh_z            1355757.0 -3.840997e-01  5.128302e-01 -7.593750e+00   \n",
      "unix_timestamp_ms  1355757.0  1.619948e+12  2.179587e+09  1.616597e+12   \n",
      "\n",
      "                            25%           50%           75%           max  \n",
      "back_x            -9.929200e-01 -9.394530e-01 -8.281250e-01  3.630370e-01  \n",
      "back_y            -1.096190e-01 -2.197300e-02  5.078100e-02  1.576660e+00  \n",
      "back_z            -2.751460e-01 -1.125490e-01  3.125000e-01  1.179199e+00  \n",
      "thigh_x           -9.873050e-01 -9.357910e-01 -7.080100e-02  3.395264e+00  \n",
      "thigh_y           -1.166990e-01 -1.562500e-02  1.125490e-01  5.725098e+00  \n",
      "thigh_z           -9.860840e-01 -1.877440e-01 -4.395000e-03  3.953369e+00  \n",
      "unix_timestamp_ms  1.618326e+12  1.620376e+12  1.622108e+12  1.623410e+12  \n"
     ]
    }
   ],
   "source": [
    "#EDA\n",
    "def check_df(data, head=5):\n",
    "    print(\"\\n------Shape------\")\n",
    "    print(f'Shape     : {df.shape}\\n'\n",
    "          f'Size      : {df.size}\\n'\n",
    "          f'Dimension : {df.ndim}')\n",
    "    print(\"\\n------Types------\")\n",
    "    print(data.dtypes)\n",
    "    print(\"\\n------Head------\")\n",
    "    print(data.head(head))\n",
    "    print(\"\\n------Tail------\")\n",
    "    print(data.tail(head))\n",
    "    print(\"\\n------Missing Values------\")\n",
    "    print(data.isnull().sum())\n",
    "    print(\"\\n------Duplicated Values------\")\n",
    "    print(data.duplicated().sum())\n",
    "    print(\"\\n------Unique Values------\")\n",
    "    print(data.nunique())\n",
    "    print(\"\\n------Describe------\")\n",
    "    print(data.describe().T)\n",
    "\n",
    "check_df(x_train)"
   ]
  },
  {
   "cell_type": "code",
   "execution_count": 51,
   "metadata": {},
   "outputs": [],
   "source": [
    "# Seperate out the num and cat features\n",
    "cat_cols = ['source_file']\n",
    "num_cols = [cols for cols in x.columns if cols not in cat_cols]"
   ]
  },
  {
   "cell_type": "code",
   "execution_count": 70,
   "metadata": {},
   "outputs": [
    {
     "data": {
      "text/html": [
       "<div>\n",
       "<style scoped>\n",
       "    .dataframe tbody tr th:only-of-type {\n",
       "        vertical-align: middle;\n",
       "    }\n",
       "\n",
       "    .dataframe tbody tr th {\n",
       "        vertical-align: top;\n",
       "    }\n",
       "\n",
       "    .dataframe thead th {\n",
       "        text-align: right;\n",
       "    }\n",
       "</style>\n",
       "<table border=\"1\" class=\"dataframe\">\n",
       "  <thead>\n",
       "    <tr style=\"text-align: right;\">\n",
       "      <th></th>\n",
       "      <th>back_x</th>\n",
       "      <th>back_y</th>\n",
       "      <th>back_z</th>\n",
       "      <th>source_file</th>\n",
       "      <th>thigh_x</th>\n",
       "      <th>thigh_y</th>\n",
       "      <th>thigh_z</th>\n",
       "      <th>unix_timestamp_ms</th>\n",
       "    </tr>\n",
       "  </thead>\n",
       "  <tbody>\n",
       "    <tr>\n",
       "      <th>0</th>\n",
       "      <td>-0.999023</td>\n",
       "      <td>-0.063477</td>\n",
       "      <td>0.140625</td>\n",
       "      <td>501</td>\n",
       "      <td>-0.980469</td>\n",
       "      <td>-0.112061</td>\n",
       "      <td>-0.048096</td>\n",
       "      <td>1616596923839</td>\n",
       "    </tr>\n",
       "    <tr>\n",
       "      <th>1</th>\n",
       "      <td>-0.980225</td>\n",
       "      <td>-0.079346</td>\n",
       "      <td>0.140625</td>\n",
       "      <td>501</td>\n",
       "      <td>-0.961182</td>\n",
       "      <td>-0.121582</td>\n",
       "      <td>-0.051758</td>\n",
       "      <td>1616596923859</td>\n",
       "    </tr>\n",
       "    <tr>\n",
       "      <th>2</th>\n",
       "      <td>-0.950195</td>\n",
       "      <td>-0.076416</td>\n",
       "      <td>0.140625</td>\n",
       "      <td>501</td>\n",
       "      <td>-0.949463</td>\n",
       "      <td>-0.080566</td>\n",
       "      <td>-0.067139</td>\n",
       "      <td>1616596923880</td>\n",
       "    </tr>\n",
       "    <tr>\n",
       "      <th>3</th>\n",
       "      <td>-0.954834</td>\n",
       "      <td>-0.059082</td>\n",
       "      <td>0.140381</td>\n",
       "      <td>501</td>\n",
       "      <td>-0.957520</td>\n",
       "      <td>-0.046143</td>\n",
       "      <td>-0.050781</td>\n",
       "      <td>1616596923900</td>\n",
       "    </tr>\n",
       "    <tr>\n",
       "      <th>4</th>\n",
       "      <td>-0.972412</td>\n",
       "      <td>-0.042969</td>\n",
       "      <td>0.142822</td>\n",
       "      <td>501</td>\n",
       "      <td>-0.977051</td>\n",
       "      <td>-0.023682</td>\n",
       "      <td>-0.026611</td>\n",
       "      <td>1616596923920</td>\n",
       "    </tr>\n",
       "  </tbody>\n",
       "</table>\n",
       "</div>"
      ],
      "text/plain": [
       "     back_x    back_y    back_z source_file   thigh_x   thigh_y   thigh_z  \\\n",
       "0 -0.999023 -0.063477  0.140625         501 -0.980469 -0.112061 -0.048096   \n",
       "1 -0.980225 -0.079346  0.140625         501 -0.961182 -0.121582 -0.051758   \n",
       "2 -0.950195 -0.076416  0.140625         501 -0.949463 -0.080566 -0.067139   \n",
       "3 -0.954834 -0.059082  0.140381         501 -0.957520 -0.046143 -0.050781   \n",
       "4 -0.972412 -0.042969  0.142822         501 -0.977051 -0.023682 -0.026611   \n",
       "\n",
       "   unix_timestamp_ms  \n",
       "0      1616596923839  \n",
       "1      1616596923859  \n",
       "2      1616596923880  \n",
       "3      1616596923900  \n",
       "4      1616596923920  "
      ]
     },
     "execution_count": 70,
     "metadata": {},
     "output_type": "execute_result"
    }
   ],
   "source": [
    "x.head()"
   ]
  },
  {
   "cell_type": "code",
   "execution_count": 55,
   "metadata": {},
   "outputs": [
    {
     "data": {
      "text/plain": [
       "label\n",
       "1    1079312\n",
       "7     483452\n",
       "6     418055\n",
       "8     203182\n",
       "3      66058\n",
       "5       4978\n",
       "4       4560\n",
       "Name: count, dtype: int64"
      ]
     },
     "execution_count": 55,
     "metadata": {},
     "output_type": "execute_result"
    }
   ],
   "source": [
    "#Check for imbalance in dataset\n",
    "y['label'].value_counts()"
   ]
  },
  {
   "cell_type": "code",
   "execution_count": 62,
   "metadata": {},
   "outputs": [
    {
     "name": "stderr",
     "output_type": "stream",
     "text": [
      "c:\\Users\\HrishikeshPawar\\OneDrive - Tata Insights and Quants\\Study\\ML Self Study\\ML-Classification\\ml_classify\\lib\\site-packages\\sklearn\\base.py:1473: DataConversionWarning: A column-vector y was passed when a 1d array was expected. Please change the shape of y to (n_samples,), for example using ravel().\n",
      "  return fit_method(estimator, *args, **kwargs)\n"
     ]
    }
   ],
   "source": [
    "#Feature Engineering\n",
    "\n",
    "#use rf to get feature inportances\n",
    "rf_classifier_fi = RandomForestClassifier(n_estimators=100, random_state=42)\n",
    "rf_classifier_fi.fit(x_train, y_train)\n",
    "feature_importance = rf_classifier_fi.feature_importances_\n",
    "feature_importance_df = pd.DataFrame({'Feature':x_train.columns, 'Feature_importance':feature_importance}).sort_values(by='Feature_importance', ascending=False)"
   ]
  },
  {
   "cell_type": "code",
   "execution_count": 75,
   "metadata": {},
   "outputs": [],
   "source": [
    "#Selecting fetaures who importance more tha 0.05\n",
    "x_train = x_train[x_train.columns.difference(['source_file'])]\n",
    "x_val = x_val[x_val.columns.difference(['source_file'])]"
   ]
  },
  {
   "cell_type": "code",
   "execution_count": null,
   "metadata": {},
   "outputs": [],
   "source": []
  },
  {
   "cell_type": "code",
   "execution_count": 78,
   "metadata": {},
   "outputs": [
    {
     "name": "stderr",
     "output_type": "stream",
     "text": [
      "c:\\Users\\HrishikeshPawar\\OneDrive - Tata Insights and Quants\\Study\\ML Self Study\\ML-Classification\\ml_classify\\lib\\site-packages\\sklearn\\base.py:1473: DataConversionWarning: A column-vector y was passed when a 1d array was expected. Please change the shape of y to (n_samples,), for example using ravel().\n",
      "  return fit_method(estimator, *args, **kwargs)\n"
     ]
    }
   ],
   "source": [
    "#Apply Random Forest to the data\n",
    "# Initialize Random Forest Classifier\n",
    "rf_classifier = RandomForestClassifier(n_estimators=100, random_state=42)\n",
    "\n",
    "# Train the model on the selected features\n",
    "rf_classifier.fit(x_train, y_train)\n",
    "# Make predictions on the test set\n",
    "predictions = rf_classifier.predict(x_val)"
   ]
  },
  {
   "cell_type": "code",
   "execution_count": 79,
   "metadata": {},
   "outputs": [
    {
     "name": "stdout",
     "output_type": "stream",
     "text": [
      "Accuracy: 0.329264029031687\n"
     ]
    }
   ],
   "source": [
    "# Evaluate the model\n",
    "\n",
    "accuracy = accuracy_score(y_test, predictions)\n",
    "print(\"Accuracy:\", accuracy)"
   ]
  },
  {
   "cell_type": "code",
   "execution_count": null,
   "metadata": {},
   "outputs": [],
   "source": []
  }
 ],
 "metadata": {
  "kernelspec": {
   "display_name": "ml_classify",
   "language": "python",
   "name": "ml_classify"
  },
  "language_info": {
   "codemirror_mode": {
    "name": "ipython",
    "version": 3
   },
   "file_extension": ".py",
   "mimetype": "text/x-python",
   "name": "python",
   "nbconvert_exporter": "python",
   "pygments_lexer": "ipython3",
   "version": "3.10.9"
  }
 },
 "nbformat": 4,
 "nbformat_minor": 2
}
